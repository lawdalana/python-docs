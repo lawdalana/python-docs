{
 "cells": [
  {
   "cell_type": "code",
   "execution_count": null,
   "metadata": {
    "collapsed": true
   },
   "outputs": [],
   "source": [
    "from flask import Flask,Response\n",
    "import json\n",
    "app = Flask(__name__)\n",
    "\n",
    "@app.route('./getJson', )\n",
    "def get_json:\n",
    "    data = {\n",
    "        'hello'  : 'world',\n",
    "        'number' : 3\n",
    "    }\n",
    "    js = json.dumps(data)\n",
    "\n",
    "    resp = Response(js, status=200, mimetype='application/json')\n",
    "    resp.headers['Link'] = 'http://luisrei.com'\n",
    "\n",
    "    return resp"
   ]
  }
 ],
 "metadata": {
  "kernelspec": {
   "display_name": "Python 3",
   "language": "python",
   "name": "python3"
  },
  "language_info": {
   "codemirror_mode": {
    "name": "ipython",
    "version": 3
   },
   "file_extension": ".py",
   "mimetype": "text/x-python",
   "name": "python",
   "nbconvert_exporter": "python",
   "pygments_lexer": "ipython3",
   "version": "3.6.3"
  }
 },
 "nbformat": 4,
 "nbformat_minor": 2
}
